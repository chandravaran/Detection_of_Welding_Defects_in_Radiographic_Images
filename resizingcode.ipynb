{
 "cells": [
  {
   "cell_type": "code",
   "execution_count": 3,
   "metadata": {},
   "outputs": [],
   "source": [
    "import cv2 \n",
    "import numpy as np \n",
    "import os\n",
    "import matplotlib.pyplot as plt  \n",
    "\n",
    "\n",
    "images_D =r\"C:\\Users\\JANAVI N\\Downloads\\Images_IP_project\\100sample\"\n",
    "save_file= r\"C:\\Users\\JANAVI N\\Downloads\\Images_IP_project\\299x299_100sample\\\\\"\n",
    "\n",
    "l=[]\n",
    "b=0\n",
    "for f in os.listdir(images_D):\n",
    "    img = cv2.imread(os.path.join(images_D, f))\n",
    "    d = img.shape\n",
    "    new_img = cv2.resize(img, (299,299),            # resizing image to respective dimension width*height\n",
    "               interpolation = cv2.INTER_NEAREST)\n",
    "    cv2.imwrite(save_file+f+\"_\"+\".jpg\", new_img)    \n"
   ]
  },
  {
   "cell_type": "code",
   "execution_count": null,
   "metadata": {},
   "outputs": [],
   "source": []
  }
 ],
 "metadata": {
  "kernelspec": {
   "display_name": "Python 3",
   "language": "python",
   "name": "python3"
  },
  "language_info": {
   "codemirror_mode": {
    "name": "ipython",
    "version": 3
   },
   "file_extension": ".py",
   "mimetype": "text/x-python",
   "name": "python",
   "nbconvert_exporter": "python",
   "pygments_lexer": "ipython3",
   "version": "3.7.6"
  }
 },
 "nbformat": 4,
 "nbformat_minor": 2
}
